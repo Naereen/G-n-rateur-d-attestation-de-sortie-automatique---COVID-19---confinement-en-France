{
 "cells": [
  {
   "cell_type": "markdown",
   "metadata": {},
   "source": [
    "# Générateur d'attestation de sortie automatique - COVID 19\n",
    "*Ceci est une expérimentation, et n'est pas encore terminé*\n",
    "\n",
    "## But initial\n",
    "\n",
    "1. utiliser [Selenium](https://www.selenium.dev/) et [selenium Python](https://selenium-python.readthedocs.io/installation.html) pour automatiser l'utilisation du site [media.interieur.gouv.fr/deplacement-covid-19/](https://media.interieur.gouv.fr/deplacement-covid-19/),                                                                                                                             \n",
    "2. sauvegarder le PDF localement, et l'envoyer par mail ou sur mon site web.\n",
    "\n",
    "TODO ajouter warning etc.\n",
    "\n",
    "- Auteur : [Lilian Besson](https://perso.crans.org/besson/) ([@Naereen](https://GitHub.com/Naereen) sur GitHub)\n",
    "- Licence : [MIT Licensed](https://lbesson.mit-license.org/)\n",
    "- Date : Samedi 31 octobre 2020"
   ]
  },
  {
   "cell_type": "markdown",
   "metadata": {},
   "source": [
    "---\n",
    "## Premier tutoriel pour prendre en main selenium"
   ]
  },
  {
   "cell_type": "markdown",
   "metadata": {},
   "source": [
    "Note : je n'avais jamais utilisé selenium ou ce genre de module pour contrôler un navigateur en mode \"headless\".\n",
    "Ce n'est pas très compliqué, et j'ai trouvé que ce petit tutoriel est bien fait : https://pythonbasics.org/selenium-firefox-headless/\n",
    "[Cette documentation est bien complète, pour le module Python de selenium](https://selenium-python.readthedocs.io/)."
   ]
  },
  {
   "cell_type": "code",
   "execution_count": 66,
   "metadata": {
    "ExecuteTime": {
     "end_time": "2020-10-31T12:29:04.691770Z",
     "start_time": "2020-10-31T12:29:00.420570Z"
    }
   },
   "outputs": [
    {
     "name": "stdout",
     "output_type": "stream",
     "text": [
      "Downloading 'https://GitHub.com/Naereen'...\n",
      "<html lang=\"en\"><head>\n",
      "    <meta charset=\"utf-8\">\n",
      "  <link rel=\"dns-prefetch\" href=\"https://github.githubassets.com\">\n",
      "  <link rel=\"dns-prefetch\" href=\"https://avatars0.githubusercontent.com\">\n",
      "  <link rel=\"dns-prefetch\" href=\"https://avatars1.githubusercontent.com\">\n",
      "  <link rel=\"dns-prefetch\" href=\"https://avatars2.githubusercontent.com\">\n",
      "  <link rel=\"dns-prefetch\" href=\"https://avatars3.githubusercontent.com\">\n",
      "  <link rel=\"dns-prefetch\" href=\"https://github-cloud.s3.amazonaws.com\">\n",
      "  <link rel=\"d\n"
     ]
    }
   ],
   "source": [
    "from selenium import webdriver\n",
    "\n",
    "try:\n",
    "    URL = \"https://GitHub.com/Naereen\"\n",
    "    print(f\"Downloading '{URL}'...\")\n",
    "    firefoxOptions = webdriver.FirefoxOptions()\n",
    "    firefoxOptions.headless = True\n",
    "    browser = webdriver.Firefox(options=firefoxOptions)\n",
    "\n",
    "    browser.get('https://GitHub.com/Naereen')\n",
    "    print(browser.page_source[:500])\n",
    "finally:\n",
    "    try:\n",
    "        browser.close()\n",
    "    except:\n",
    "        pass"
   ]
  },
  {
   "cell_type": "markdown",
   "metadata": {},
   "source": [
    "J'ai bien réussi à installer et utiliser Selenium. Ca marche bien !"
   ]
  },
  {
   "cell_type": "markdown",
   "metadata": {},
   "source": [
    "## Solution"
   ]
  },
  {
   "cell_type": "markdown",
   "metadata": {},
   "source": [
    "J'aurai besoin de ces modules là :"
   ]
  },
  {
   "cell_type": "code",
   "execution_count": null,
   "metadata": {
    "ExecuteTime": {
     "end_time": "2020-10-31T12:13:57.336486Z",
     "start_time": "2020-10-31T12:13:49.242537Z"
    }
   },
   "outputs": [],
   "source": [
    "import time\n",
    "from datetime import datetime\n",
    "import urllib.request\n",
    "import subprocess\n",
    "from selenium import webdriver"
   ]
  },
  {
   "cell_type": "markdown",
   "metadata": {},
   "source": [
    "Et je vais avoir besoin de cette fonction là, qui vient de https://stackoverflow.com/a/47425305/, pour télécharger l'attestation générée par le site, qui est donnée sous la forme d'une adresse blob:https://media.interieur.gouv.fr/ca78c998-724b-4540-8152-2eb269b06eab"
   ]
  },
  {
   "cell_type": "code",
   "execution_count": 39,
   "metadata": {
    "ExecuteTime": {
     "end_time": "2020-10-31T12:09:45.167245Z",
     "start_time": "2020-10-31T12:09:45.151979Z"
    }
   },
   "outputs": [],
   "source": [
    "import base64\n",
    "\n",
    "def get_file_content_chrome(browser, uri):\n",
    "    \"\"\" Use selenium [browser] to download blob [uri].\n",
    "\n",
    "    - Source https://stackoverflow.com/a/47425305/\n",
    "    \"\"\"\n",
    "    result = browser.execute_async_script(\"\"\"\n",
    "        var uri = arguments[0];\n",
    "        var callback = arguments[1];\n",
    "        var toBase64 = function(buffer){for(var r,n=new Uint8Array(buffer),t=n.length,a=new Uint8Array(4*Math.ceil(t/3)),i=new Uint8Array(64),o=0,c=0;64>c;++c)i[c]=\"ABCDEFGHIJKLMNOPQRSTUVWXYZabcdefghijklmnopqrstuvwxyz0123456789+/\".charCodeAt(c);for(c=0;t-t%3>c;c+=3,o+=4)r=n[c]<<16|n[c+1]<<8|n[c+2],a[o]=i[r>>18],a[o+1]=i[r>>12&63],a[o+2]=i[r>>6&63],a[o+3]=i[63&r];return t%3===1?(r=n[t-1],a[o]=i[r>>2],a[o+1]=i[r<<4&63],a[o+2]=61,a[o+3]=61):t%3===2&&(r=(n[t-2]<<8)+n[t-1],a[o]=i[r>>10],a[o+1]=i[r>>4&63],a[o+2]=i[r<<2&63],a[o+3]=61),new TextDecoder(\"ascii\").decode(a)};\n",
    "        var xhr = new XMLHttpRequest();\n",
    "        xhr.responseType = 'arraybuffer';\n",
    "        xhr.onload = function(){ callback(toBase64(xhr.response)) };\n",
    "        xhr.onerror = function(){ callback(xhr.status) };\n",
    "        xhr.open('GET', uri);\n",
    "        xhr.send();\n",
    "    \"\"\", uri)\n",
    "    if type(result) == int :\n",
    "        raise Exception(\"Request failed with status %s\" % result)\n",
    "    return base64.b64decode(result)\n",
    "\n",
    "# bytes = get_file_content_chrome(browser, \"blob:https://developer.mozilla.org/7f9557f4-d8c8-4353-9752-5a49e85058f5\")"
   ]
  },
  {
   "cell_type": "markdown",
   "metadata": {},
   "source": [
    "Et maintenant je peux écrire une fonction qui génère une attestation et la sauvegarde, avec les détails (nom, adresse etc) donnés en argument.\n",
    "\n",
    "Il suffira ensuite de lancer cette fonction toutes les 55 minutes et m'envoyer un mail."
   ]
  },
  {
   "cell_type": "code",
   "execution_count": 67,
   "metadata": {
    "ExecuteTime": {
     "end_time": "2020-10-31T12:30:59.354117Z",
     "start_time": "2020-10-31T12:30:59.340944Z"
    }
   },
   "outputs": [],
   "source": [
    "def download_attestation(details):\n",
    "    \"\"\" Fill the form on https://media.interieur.gouv.fr/deplacement-covid-19/ with details, and save the PDF attestation.\"\"\"\n",
    "    try:\n",
    "        firefoxOptions = webdriver.FirefoxOptions()\n",
    "        firefoxOptions.headless = True\n",
    "        browser = webdriver.Firefox(options=firefoxOptions)\n",
    "\n",
    "        URL = \"https://media.interieur.gouv.fr/deplacement-covid-19/\"\n",
    "        browser.get(URL)\n",
    "        page_source = browser.page_source\n",
    "        page_source_100 = '<html class=\"fontawesome-i2svg-active fontawesome-i2svg-complete\" lang=\"fr\"><head><meta charset=\"UTF'\n",
    "        assert page_source[:100] == page_source_100\n",
    "\n",
    "        # fill with details\n",
    "        now = datetime.now()\n",
    "        # fill #field-XXX with YYY\n",
    "        # - field-firstname\n",
    "        # - field-lastname\n",
    "        # - field-birthday\n",
    "        # - field-placeofbirth\n",
    "        # - field-address\n",
    "        # - field-city\n",
    "        # - field-zipcode\n",
    "        # - field-datesortie\n",
    "        # - field-heuresortie\n",
    "        for fieldname, value in details.items():\n",
    "            print(f\"Filling the form '{fieldname}' with value '{value}'...\")\n",
    "            input_field = browser.find_element_by_id(f\"field-{fieldname}\")  \n",
    "            input_field.clear()\n",
    "            input_field.send_keys(value)\n",
    "        for fieldname, value in details.items():\n",
    "            print(f\"Checking value of the form '{fieldname}'...\")\n",
    "            input_field = browser.find_element_by_id(f\"field-{fieldname}\")  \n",
    "            its_new_value = input_field.get_attribute(\"value\")\n",
    "            if its_new_value != value:\n",
    "                print(f\"Error: the form '{fieldname}' has value '{its_new_value}' != '{value}'.\")\n",
    "\n",
    "        # click sur '#checkbox-achats'\n",
    "        print(\"Clicking on '#checkbox-achats'...\")\n",
    "        checkbox_achats = browser.find_element_by_id(\"checkbox-achats\")\n",
    "        checkbox_achats.click()\n",
    "\n",
    "        # click sur '#generate-btn'\n",
    "        print(\"Clicking on 'generate-btn'...\")\n",
    "        generate_btn = browser.find_element_by_id(\"generate-btn\")\n",
    "        # TODO how to configure the path of the file to save?\n",
    "        generate_btn.click()\n",
    "\n",
    "        # now wait 5 seconds\n",
    "        print(\"New sleeping 5 seconds...\")\n",
    "        time.sleep(5)\n",
    "        # check that there is a new <a href=\"...\" download=\"...\"> link\n",
    "        # <a href=\"blob:https://media.interieur.gouv.fr/712fc9d2-6967-4e63-b9c3-870175b6258f\" download=\"attestation-2020-10-31_12-40.pdf\"></a>\n",
    "        all_a_links = browser.find_elements_by_css_selector(\"a\")\n",
    "        # window.document.getElementsByTagName(\"a\")\n",
    "        for link in all_a_links:\n",
    "            try:\n",
    "                href = link.get_attribute(\"href\")\n",
    "                download = link.get_attribute(\"download\")\n",
    "                if download:\n",
    "                    print(f\"Found a new <a href='...'> link! with href = {href}\")\n",
    "                    print(f\"  and it has a download = {download}\")\n",
    "                    print(\"Downloading the file and save it!\")\n",
    "                    # 1st try...\n",
    "                    # print(\"1. using get_file_content_chrome...\")\n",
    "                    bytes_download = get_file_content_chrome(browser, href)\n",
    "                    download_name = download  #.replace(\".pdf\", \"_2.pdf\")\n",
    "                    with open(download_name, \"wb\") as download_file:\n",
    "                        download_file.write(bytes_download)\n",
    "                    print(f\"The PDF file {download_name} is now saved!\")\n",
    "                    ## 2nd try...\n",
    "                    #print(\"2. using urllib.request.urlretrieve(href, download)...\")\n",
    "                    #urllib.request.urlretrieve(href, download)\n",
    "                    #!ls -larth *.pdf\n",
    "            except:\n",
    "                pass\n",
    "\n",
    "    finally:\n",
    "        try:\n",
    "            browser.close()\n",
    "        except:\n",
    "            pass"
   ]
  },
  {
   "cell_type": "code",
   "execution_count": null,
   "metadata": {},
   "outputs": [],
   "source": [
    "def send_attestations(url_destination):\n",
    "    "
   ]
  },
  {
   "cell_type": "code",
   "execution_count": null,
   "metadata": {},
   "outputs": [],
   "source": []
  },
  {
   "cell_type": "code",
   "execution_count": 43,
   "metadata": {
    "ExecuteTime": {
     "end_time": "2020-10-31T12:14:00.501603Z",
     "start_time": "2020-10-31T12:14:00.382444Z"
    }
   },
   "outputs": [
    {
     "name": "stdout",
     "output_type": "stream",
     "text": [
      "-rw-r--r-- 1 lilian lilian 42K oct.  31 13:12 attestation-2020-10-31_13-11_2.pdf\r\n",
      "-rw-r--r-- 1 lilian lilian 42K oct.  31 13:13 attestation-2020-10-31_13-13_2.pdf\r\n"
     ]
    }
   ],
   "source": [
    "!ls -larth *pdf"
   ]
  },
  {
   "cell_type": "code",
   "execution_count": 68,
   "metadata": {
    "ExecuteTime": {
     "end_time": "2020-10-31T12:31:42.507799Z",
     "start_time": "2020-10-31T12:31:41.371939Z"
    }
   },
   "outputs": [
    {
     "name": "stdout",
     "output_type": "stream",
     "text": [
      "rsync: receiving the argument(s) \u001b[01;30mattestation-2020-10-31_13-11_2.pdf attestation-2020-10-31_13-13_2.pdf besson@zamok.crans.org:~/www/attestations/\n",
      "Host key fingerprint is SHA256:EJib/9V3VjjkUX6w8bk2zt8BKxmG0JK6D+PDEyLtNb0\n",
      "+---[ECDSA 256]---+\n",
      "|     o.       o..|\n",
      "|    o  .o     o*.|\n",
      "|     o.+ .   o.++|\n",
      "|    o ..o .   + +|\n",
      "|  .  o. S. + . =.|\n",
      "| . o +o.  o + B +|\n",
      "|  o ++o... o o * |\n",
      "|   ..++E.   .   +|\n",
      "|     .o.        o|\n",
      "+----[SHA256]-----+\n",
      "\u001b[4;01;32m\u001b[Ksending incremental file list\u001b[m\u001b[K\n",
      "created directory /home/besson/www/attestations\n",
      "\u001b[37m\u001b[Kattestation-2020-10-31_13-11_2.pdf\u001b[m\u001b[K\n",
      "         42.87K \u001b[7;01;34m\u001b[K100%\u001b[m\u001b[K    \u001b[01;33m\u001b[K4.82MB/s\u001b[m\u001b[K    \u001b[01;36m\u001b[K0:00:00\u001b[m\u001b[K (xfr#1, to-chk=1/2)\n",
      "\u001b[37m\u001b[Kattestation-2020-10-31_13-13_2.pdf\u001b[m\u001b[K\n",
      "         42.90K \u001b[7;01;34m\u001b[K100%\u001b[m\u001b[K    \u001b[01;33m\u001b[K5.84MB/s\u001b[m\u001b[K    \u001b[01;36m\u001b[K0:00:00\u001b[m\u001b[K (xfr#2, to-chk=0/2)\n",
      "\n",
      "\u001b[4;01;32m\u001b[Ksent 77.73K bytes  received 106 bytes  51.89K bytes/sec\u001b[m\u001b[K\n",
      "\u001b[4;01;32m\u001b[Ktotal size is 85.77K  speedup is 1.10\u001b[m\u001b[K\n"
     ]
    }
   ],
   "source": [
    "!CP *.pdf besson@zamok.crans.org:~/www/attestations/"
   ]
  },
  {
   "cell_type": "markdown",
   "metadata": {},
   "source": [
    "## Exemple"
   ]
  },
  {
   "cell_type": "code",
   "execution_count": 44,
   "metadata": {
    "ExecuteTime": {
     "end_time": "2020-10-31T12:17:21.272120Z",
     "start_time": "2020-10-31T12:17:21.268069Z"
    }
   },
   "outputs": [],
   "source": [
    "# TODO read from a file, like a .ini config file\n",
    "details = {\n",
    "    'firstname': \"Camille\",\n",
    "    'lastname': \"Dupont\",\n",
    "    'birthday': \"01/01/1970\",\n",
    "    'placeofbirth': \"Paris\",\n",
    "    'address': \"999 avenue de France\",\n",
    "    'city': \"Paris\",\n",
    "    'zipcode': \"75001\",\n",
    "    'datesortie': f\"{now:%Y-%m-%d}\",\n",
    "    'heuresortie': f\"{now:%H:%M}\",\n",
    "}"
   ]
  },
  {
   "cell_type": "code",
   "execution_count": 65,
   "metadata": {
    "ExecuteTime": {
     "end_time": "2020-10-31T12:28:43.913383Z",
     "start_time": "2020-10-31T12:28:35.538127Z"
    }
   },
   "outputs": [
    {
     "name": "stdout",
     "output_type": "stream",
     "text": [
      "Filling the form 'firstname' with value 'Camille'...\n",
      "Filling the form 'lastname' with value 'Dupont'...\n",
      "Filling the form 'birthday' with value '01/01/1970'...\n",
      "Filling the form 'placeofbirth' with value 'Paris'...\n",
      "Filling the form 'address' with value '999 avenue de France'...\n",
      "Filling the form 'city' with value 'Paris'...\n",
      "Filling the form 'zipcode' with value '75001'...\n",
      "Filling the form 'datesortie' with value '2020-10-31'...\n",
      "Filling the form 'heuresortie' with value '13:13'...\n",
      "Checking value of the form 'firstname'...\n",
      "Checking value of the form 'lastname'...\n",
      "Checking value of the form 'birthday'...\n",
      "Checking value of the form 'placeofbirth'...\n",
      "Checking value of the form 'address'...\n",
      "Checking value of the form 'city'...\n",
      "Checking value of the form 'zipcode'...\n",
      "Checking value of the form 'datesortie'...\n",
      "Checking value of the form 'heuresortie'...\n",
      "Clicking on '#checkbox-achats'...\n",
      "Clicking on 'generate-btn'...\n",
      "New sleeping 5 seconds...\n"
     ]
    },
    {
     "ename": "WebDriverException",
     "evalue": "Message: Failed to decode response from marionette\n",
     "output_type": "error",
     "traceback": [
      "\u001b[0;31m---------------------------------------------------------------------------\u001b[0m",
      "\u001b[0;31mWebDriverException\u001b[0m                        Traceback (most recent call last)",
      "\u001b[0;32m<ipython-input-65-cd82ea6a5f2a>\u001b[0m in \u001b[0;36m<module>\u001b[0;34m\u001b[0m\n\u001b[0;32m----> 1\u001b[0;31m \u001b[0mdownload_attestation\u001b[0m\u001b[0;34m(\u001b[0m\u001b[0mdetails\u001b[0m\u001b[0;34m)\u001b[0m\u001b[0;34m\u001b[0m\u001b[0;34m\u001b[0m\u001b[0m\n\u001b[0m",
      "\u001b[0;32m<ipython-input-61-045411c4852e>\u001b[0m in \u001b[0;36mdownload_attestation\u001b[0;34m(details)\u001b[0m\n\u001b[1;32m     51\u001b[0m         \u001b[0;31m# check that there is a new <a href=\"...\" download=\"...\"> link\u001b[0m\u001b[0;34m\u001b[0m\u001b[0;34m\u001b[0m\u001b[0;34m\u001b[0m\u001b[0m\n\u001b[1;32m     52\u001b[0m         \u001b[0;31m# <a href=\"blob:https://media.interieur.gouv.fr/712fc9d2-6967-4e63-b9c3-870175b6258f\" download=\"attestation-2020-10-31_12-40.pdf\"></a>\u001b[0m\u001b[0;34m\u001b[0m\u001b[0;34m\u001b[0m\u001b[0;34m\u001b[0m\u001b[0m\n\u001b[0;32m---> 53\u001b[0;31m         \u001b[0mall_a_links\u001b[0m \u001b[0;34m=\u001b[0m \u001b[0mbrowser\u001b[0m\u001b[0;34m.\u001b[0m\u001b[0mfind_elements_by_css_selector\u001b[0m\u001b[0;34m(\u001b[0m\u001b[0;34m\"a\"\u001b[0m\u001b[0;34m)\u001b[0m\u001b[0;34m\u001b[0m\u001b[0;34m\u001b[0m\u001b[0m\n\u001b[0m\u001b[1;32m     54\u001b[0m         \u001b[0;31m# window.document.getElementsByTagName(\"a\")\u001b[0m\u001b[0;34m\u001b[0m\u001b[0;34m\u001b[0m\u001b[0;34m\u001b[0m\u001b[0m\n\u001b[1;32m     55\u001b[0m         \u001b[0;32mfor\u001b[0m \u001b[0mlink\u001b[0m \u001b[0;32min\u001b[0m \u001b[0mall_a_links\u001b[0m\u001b[0;34m:\u001b[0m\u001b[0;34m\u001b[0m\u001b[0;34m\u001b[0m\u001b[0m\n",
      "\u001b[0;32m/usr/local/lib/python3.6/dist-packages/selenium/webdriver/remote/webdriver.py\u001b[0m in \u001b[0;36mfind_elements_by_css_selector\u001b[0;34m(self, css_selector)\u001b[0m\n\u001b[1;32m    612\u001b[0m             \u001b[0melements\u001b[0m \u001b[0;34m=\u001b[0m \u001b[0mdriver\u001b[0m\u001b[0;34m.\u001b[0m\u001b[0mfind_elements_by_css_selector\u001b[0m\u001b[0;34m(\u001b[0m\u001b[0;34m'.foo'\u001b[0m\u001b[0;34m)\u001b[0m\u001b[0;34m\u001b[0m\u001b[0;34m\u001b[0m\u001b[0m\n\u001b[1;32m    613\u001b[0m         \"\"\"\n\u001b[0;32m--> 614\u001b[0;31m         \u001b[0;32mreturn\u001b[0m \u001b[0mself\u001b[0m\u001b[0;34m.\u001b[0m\u001b[0mfind_elements\u001b[0m\u001b[0;34m(\u001b[0m\u001b[0mby\u001b[0m\u001b[0;34m=\u001b[0m\u001b[0mBy\u001b[0m\u001b[0;34m.\u001b[0m\u001b[0mCSS_SELECTOR\u001b[0m\u001b[0;34m,\u001b[0m \u001b[0mvalue\u001b[0m\u001b[0;34m=\u001b[0m\u001b[0mcss_selector\u001b[0m\u001b[0;34m)\u001b[0m\u001b[0;34m\u001b[0m\u001b[0;34m\u001b[0m\u001b[0m\n\u001b[0m\u001b[1;32m    615\u001b[0m \u001b[0;34m\u001b[0m\u001b[0m\n\u001b[1;32m    616\u001b[0m     \u001b[0;32mdef\u001b[0m \u001b[0mexecute_script\u001b[0m\u001b[0;34m(\u001b[0m\u001b[0mself\u001b[0m\u001b[0;34m,\u001b[0m \u001b[0mscript\u001b[0m\u001b[0;34m,\u001b[0m \u001b[0;34m*\u001b[0m\u001b[0margs\u001b[0m\u001b[0;34m)\u001b[0m\u001b[0;34m:\u001b[0m\u001b[0;34m\u001b[0m\u001b[0;34m\u001b[0m\u001b[0m\n",
      "\u001b[0;32m/usr/local/lib/python3.6/dist-packages/selenium/webdriver/remote/webdriver.py\u001b[0m in \u001b[0;36mfind_elements\u001b[0;34m(self, by, value)\u001b[0m\n\u001b[1;32m   1005\u001b[0m         return self.execute(Command.FIND_ELEMENTS, {\n\u001b[1;32m   1006\u001b[0m             \u001b[0;34m'using'\u001b[0m\u001b[0;34m:\u001b[0m \u001b[0mby\u001b[0m\u001b[0;34m,\u001b[0m\u001b[0;34m\u001b[0m\u001b[0;34m\u001b[0m\u001b[0m\n\u001b[0;32m-> 1007\u001b[0;31m             'value': value})['value'] or []\n\u001b[0m\u001b[1;32m   1008\u001b[0m \u001b[0;34m\u001b[0m\u001b[0m\n\u001b[1;32m   1009\u001b[0m     \u001b[0;34m@\u001b[0m\u001b[0mproperty\u001b[0m\u001b[0;34m\u001b[0m\u001b[0;34m\u001b[0m\u001b[0m\n",
      "\u001b[0;32m/usr/local/lib/python3.6/dist-packages/selenium/webdriver/remote/webdriver.py\u001b[0m in \u001b[0;36mexecute\u001b[0;34m(self, driver_command, params)\u001b[0m\n\u001b[1;32m    319\u001b[0m         \u001b[0mresponse\u001b[0m \u001b[0;34m=\u001b[0m \u001b[0mself\u001b[0m\u001b[0;34m.\u001b[0m\u001b[0mcommand_executor\u001b[0m\u001b[0;34m.\u001b[0m\u001b[0mexecute\u001b[0m\u001b[0;34m(\u001b[0m\u001b[0mdriver_command\u001b[0m\u001b[0;34m,\u001b[0m \u001b[0mparams\u001b[0m\u001b[0;34m)\u001b[0m\u001b[0;34m\u001b[0m\u001b[0;34m\u001b[0m\u001b[0m\n\u001b[1;32m    320\u001b[0m         \u001b[0;32mif\u001b[0m \u001b[0mresponse\u001b[0m\u001b[0;34m:\u001b[0m\u001b[0;34m\u001b[0m\u001b[0;34m\u001b[0m\u001b[0m\n\u001b[0;32m--> 321\u001b[0;31m             \u001b[0mself\u001b[0m\u001b[0;34m.\u001b[0m\u001b[0merror_handler\u001b[0m\u001b[0;34m.\u001b[0m\u001b[0mcheck_response\u001b[0m\u001b[0;34m(\u001b[0m\u001b[0mresponse\u001b[0m\u001b[0;34m)\u001b[0m\u001b[0;34m\u001b[0m\u001b[0;34m\u001b[0m\u001b[0m\n\u001b[0m\u001b[1;32m    322\u001b[0m             response['value'] = self._unwrap_value(\n\u001b[1;32m    323\u001b[0m                 response.get('value', None))\n",
      "\u001b[0;32m/usr/local/lib/python3.6/dist-packages/selenium/webdriver/remote/errorhandler.py\u001b[0m in \u001b[0;36mcheck_response\u001b[0;34m(self, response)\u001b[0m\n\u001b[1;32m    240\u001b[0m                 \u001b[0malert_text\u001b[0m \u001b[0;34m=\u001b[0m \u001b[0mvalue\u001b[0m\u001b[0;34m[\u001b[0m\u001b[0;34m'alert'\u001b[0m\u001b[0;34m]\u001b[0m\u001b[0;34m.\u001b[0m\u001b[0mget\u001b[0m\u001b[0;34m(\u001b[0m\u001b[0;34m'text'\u001b[0m\u001b[0;34m)\u001b[0m\u001b[0;34m\u001b[0m\u001b[0;34m\u001b[0m\u001b[0m\n\u001b[1;32m    241\u001b[0m             \u001b[0;32mraise\u001b[0m \u001b[0mexception_class\u001b[0m\u001b[0;34m(\u001b[0m\u001b[0mmessage\u001b[0m\u001b[0;34m,\u001b[0m \u001b[0mscreen\u001b[0m\u001b[0;34m,\u001b[0m \u001b[0mstacktrace\u001b[0m\u001b[0;34m,\u001b[0m \u001b[0malert_text\u001b[0m\u001b[0;34m)\u001b[0m\u001b[0;34m\u001b[0m\u001b[0;34m\u001b[0m\u001b[0m\n\u001b[0;32m--> 242\u001b[0;31m         \u001b[0;32mraise\u001b[0m \u001b[0mexception_class\u001b[0m\u001b[0;34m(\u001b[0m\u001b[0mmessage\u001b[0m\u001b[0;34m,\u001b[0m \u001b[0mscreen\u001b[0m\u001b[0;34m,\u001b[0m \u001b[0mstacktrace\u001b[0m\u001b[0;34m)\u001b[0m\u001b[0;34m\u001b[0m\u001b[0;34m\u001b[0m\u001b[0m\n\u001b[0m\u001b[1;32m    243\u001b[0m \u001b[0;34m\u001b[0m\u001b[0m\n\u001b[1;32m    244\u001b[0m     \u001b[0;32mdef\u001b[0m \u001b[0m_value_or_default\u001b[0m\u001b[0;34m(\u001b[0m\u001b[0mself\u001b[0m\u001b[0;34m,\u001b[0m \u001b[0mobj\u001b[0m\u001b[0;34m,\u001b[0m \u001b[0mkey\u001b[0m\u001b[0;34m,\u001b[0m \u001b[0mdefault\u001b[0m\u001b[0;34m)\u001b[0m\u001b[0;34m:\u001b[0m\u001b[0;34m\u001b[0m\u001b[0;34m\u001b[0m\u001b[0m\n",
      "\u001b[0;31mWebDriverException\u001b[0m: Message: Failed to decode response from marionette\n"
     ]
    }
   ],
   "source": [
    "download_attestation(details)"
   ]
  },
  {
   "cell_type": "code",
   "execution_count": 46,
   "metadata": {
    "ExecuteTime": {
     "end_time": "2020-10-31T12:19:15.901084Z",
     "start_time": "2020-10-31T12:19:15.894051Z"
    }
   },
   "outputs": [],
   "source": [
    "import subprocess"
   ]
  },
  {
   "cell_type": "code",
   "execution_count": 63,
   "metadata": {
    "ExecuteTime": {
     "end_time": "2020-10-31T12:27:52.217315Z",
     "start_time": "2020-10-31T12:27:52.098509Z"
    }
   },
   "outputs": [
    {
     "name": "stdout",
     "output_type": "stream",
     "text": [
      "-rw-r--r-- 1 lilian lilian 42K oct.  31 13:12 attestation-2020-10-31_13-11_2.pdf\r\n",
      "-rw-r--r-- 1 lilian lilian 42K oct.  31 13:13 attestation-2020-10-31_13-13_2.pdf\r\n"
     ]
    }
   ],
   "source": [
    "!ls -larth *.pdf"
   ]
  },
  {
   "cell_type": "code",
   "execution_count": 64,
   "metadata": {
    "ExecuteTime": {
     "end_time": "2020-10-31T12:28:10.626227Z",
     "start_time": "2020-10-31T12:28:10.591673Z"
    }
   },
   "outputs": [
    {
     "ename": "CalledProcessError",
     "evalue": "Command '['ls', '-larth', '*.pdf']' returned non-zero exit status 2.",
     "output_type": "error",
     "traceback": [
      "\u001b[0;31m---------------------------------------------------------------------------\u001b[0m",
      "\u001b[0;31mCalledProcessError\u001b[0m                        Traceback (most recent call last)",
      "\u001b[0;32m<ipython-input-64-9d2799409cb7>\u001b[0m in \u001b[0;36m<module>\u001b[0;34m\u001b[0m\n\u001b[0;32m----> 1\u001b[0;31m \u001b[0mcorrect\u001b[0m \u001b[0;34m=\u001b[0m \u001b[0msubprocess\u001b[0m\u001b[0;34m.\u001b[0m\u001b[0mcheck_output\u001b[0m\u001b[0;34m(\u001b[0m\u001b[0;34m[\u001b[0m\u001b[0;34m'ls'\u001b[0m\u001b[0;34m,\u001b[0m \u001b[0;34m'-larth'\u001b[0m\u001b[0;34m,\u001b[0m \u001b[0;34m'*.pdf'\u001b[0m\u001b[0;34m]\u001b[0m\u001b[0;34m)\u001b[0m\u001b[0;34m\u001b[0m\u001b[0;34m\u001b[0m\u001b[0m\n\u001b[0m\u001b[1;32m      2\u001b[0m \u001b[0mprint\u001b[0m\u001b[0;34m(\u001b[0m\u001b[0mcorrect\u001b[0m\u001b[0;34m)\u001b[0m\u001b[0;34m\u001b[0m\u001b[0;34m\u001b[0m\u001b[0m\n",
      "\u001b[0;32m/usr/lib/python3.6/subprocess.py\u001b[0m in \u001b[0;36mcheck_output\u001b[0;34m(timeout, *popenargs, **kwargs)\u001b[0m\n\u001b[1;32m    354\u001b[0m \u001b[0;34m\u001b[0m\u001b[0m\n\u001b[1;32m    355\u001b[0m     return run(*popenargs, stdout=PIPE, timeout=timeout, check=True,\n\u001b[0;32m--> 356\u001b[0;31m                **kwargs).stdout\n\u001b[0m\u001b[1;32m    357\u001b[0m \u001b[0;34m\u001b[0m\u001b[0m\n\u001b[1;32m    358\u001b[0m \u001b[0;34m\u001b[0m\u001b[0m\n",
      "\u001b[0;32m/usr/lib/python3.6/subprocess.py\u001b[0m in \u001b[0;36mrun\u001b[0;34m(input, timeout, check, *popenargs, **kwargs)\u001b[0m\n\u001b[1;32m    436\u001b[0m         \u001b[0;32mif\u001b[0m \u001b[0mcheck\u001b[0m \u001b[0;32mand\u001b[0m \u001b[0mretcode\u001b[0m\u001b[0;34m:\u001b[0m\u001b[0;34m\u001b[0m\u001b[0;34m\u001b[0m\u001b[0m\n\u001b[1;32m    437\u001b[0m             raise CalledProcessError(retcode, process.args,\n\u001b[0;32m--> 438\u001b[0;31m                                      output=stdout, stderr=stderr)\n\u001b[0m\u001b[1;32m    439\u001b[0m     \u001b[0;32mreturn\u001b[0m \u001b[0mCompletedProcess\u001b[0m\u001b[0;34m(\u001b[0m\u001b[0mprocess\u001b[0m\u001b[0;34m.\u001b[0m\u001b[0margs\u001b[0m\u001b[0;34m,\u001b[0m \u001b[0mretcode\u001b[0m\u001b[0;34m,\u001b[0m \u001b[0mstdout\u001b[0m\u001b[0;34m,\u001b[0m \u001b[0mstderr\u001b[0m\u001b[0;34m)\u001b[0m\u001b[0;34m\u001b[0m\u001b[0;34m\u001b[0m\u001b[0m\n\u001b[1;32m    440\u001b[0m \u001b[0;34m\u001b[0m\u001b[0m\n",
      "\u001b[0;31mCalledProcessError\u001b[0m: Command '['ls', '-larth', '*.pdf']' returned non-zero exit status 2."
     ]
    }
   ],
   "source": [
    "correct = subprocess.check_output(['ls', '-larth', '*.pdf'])\n",
    "print(correct)"
   ]
  },
  {
   "cell_type": "markdown",
   "metadata": {},
   "source": [
    "With my data:"
   ]
  },
  {
   "cell_type": "code",
   "execution_count": null,
   "metadata": {},
   "outputs": [],
   "source": [
    "# TODO read from a file, like a .ini config file\n",
    "details = {\n",
    "    'firstname': \"Besson\",\n",
    "    'lastname': \"Lilian\",\n",
    "    'birthday': \"12/01/1993\",\n",
    "    'placeofbirth': \"Briançon\",\n",
    "    'address': \"23 boulevard Jeanne d'Arc\",\n",
    "    'city': \"Rennes\",\n",
    "    'zipcode': \"35000\",\n",
    "    'datesortie': f\"{now:%Y-%m-%d}\",\n",
    "    'heuresortie': f\"{now:%H:%M}\",\n",
    "}"
   ]
  },
  {
   "cell_type": "code",
   "execution_count": null,
   "metadata": {},
   "outputs": [],
   "source": []
  }
 ],
 "metadata": {
  "kernelspec": {
   "display_name": "Python 3",
   "language": "python",
   "name": "python3"
  },
  "language_info": {
   "codemirror_mode": {
    "name": "ipython",
    "version": 3
   },
   "file_extension": ".py",
   "mimetype": "text/x-python",
   "name": "python",
   "nbconvert_exporter": "python",
   "pygments_lexer": "ipython3",
   "version": "3.6.9"
  },
  "toc": {
   "base_numbering": 1,
   "nav_menu": {},
   "number_sections": true,
   "sideBar": true,
   "skip_h1_title": false,
   "title_cell": "Table of Contents",
   "title_sidebar": "Contents",
   "toc_cell": false,
   "toc_position": {},
   "toc_section_display": true,
   "toc_window_display": false
  },
  "varInspector": {
   "cols": {
    "lenName": 16,
    "lenType": 16,
    "lenVar": 40
   },
   "kernels_config": {
    "python": {
     "delete_cmd_postfix": "",
     "delete_cmd_prefix": "del ",
     "library": "var_list.py",
     "varRefreshCmd": "print(var_dic_list())"
    },
    "r": {
     "delete_cmd_postfix": ") ",
     "delete_cmd_prefix": "rm(",
     "library": "var_list.r",
     "varRefreshCmd": "cat(var_dic_list()) "
    }
   },
   "types_to_exclude": [
    "module",
    "function",
    "builtin_function_or_method",
    "instance",
    "_Feature"
   ],
   "window_display": false
  }
 },
 "nbformat": 4,
 "nbformat_minor": 4
}
